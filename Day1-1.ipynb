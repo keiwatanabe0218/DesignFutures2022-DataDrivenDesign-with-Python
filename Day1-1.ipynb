{
 "cells": [
  {
   "cell_type": "markdown",
   "id": "76929214",
   "metadata": {},
   "source": [
    "# Day1-1 Pythonの基礎①\n",
    "\n",
    "\n",
    "## ①まずはHello World"
   ]
  },
  {
   "cell_type": "code",
   "execution_count": 6,
   "id": "e7e144ae",
   "metadata": {},
   "outputs": [
    {
     "name": "stdout",
     "output_type": "stream",
     "text": [
      "Hello, World!!\n"
     ]
    }
   ],
   "source": [
    "# 文字の出力にはprint()を使います\n",
    "print(\"Hello, World!!\")"
   ]
  },
  {
   "cell_type": "code",
   "execution_count": 7,
   "id": "a6a715b3",
   "metadata": {},
   "outputs": [
    {
     "data": {
      "text/plain": [
       "'Hello, World!!'"
      ]
     },
     "execution_count": 7,
     "metadata": {},
     "output_type": "execute_result"
    }
   ],
   "source": [
    "# JupyterNotebookでは変数をそのまま出力することもできます\n",
    "a = \"Hello, World!!\"\n",
    "a"
   ]
  },
  {
   "cell_type": "code",
   "execution_count": null,
   "id": "ff11cb29",
   "metadata": {},
   "outputs": [],
   "source": []
  },
  {
   "cell_type": "markdown",
   "id": "541928eb",
   "metadata": {},
   "source": [
    "## ②変数の定義\n",
    "Pythonは型定義が必要ない言語です"
   ]
  },
  {
   "cell_type": "code",
   "execution_count": 5,
   "id": "54f876f8",
   "metadata": {},
   "outputs": [],
   "source": [
    "a = 1\n",
    "b = \"text\"\n",
    "c = True\n",
    "\n",
    "# 変数に別の型を代入することもできてしまいます。\n",
    "a = \"one\""
   ]
  },
  {
   "cell_type": "code",
   "execution_count": null,
   "id": "7b2da1ce",
   "metadata": {},
   "outputs": [],
   "source": []
  },
  {
   "cell_type": "markdown",
   "id": "22439144",
   "metadata": {},
   "source": [
    "## ③演算"
   ]
  },
  {
   "cell_type": "code",
   "execution_count": 12,
   "id": "0d469a01",
   "metadata": {},
   "outputs": [
    {
     "name": "stdout",
     "output_type": "stream",
     "text": [
      "2 -1 -6 2.5\n",
      "----------\n",
      "1\n",
      "----------\n",
      "3\n",
      "----------\n",
      "16\n"
     ]
    }
   ],
   "source": [
    "# 四則演算\n",
    "a = 1 + 1\n",
    "b = 1 - 2\n",
    "c = 2 * -3\n",
    "d = 5 / 2\n",
    "print(a,b,c,d)\n",
    "\n",
    "print(\"----------\")\n",
    "# 余り\n",
    "e = 7 % 2\n",
    "print(e)\n",
    "\n",
    "print(\"----------\")\n",
    "# 整数除算\n",
    "f = 7 // 2\n",
    "print(f)\n",
    "\n",
    "print(\"----------\")\n",
    "# べき乗\n",
    "g = 2 ** 4\n",
    "print(g)"
   ]
  },
  {
   "cell_type": "code",
   "execution_count": null,
   "id": "3b126ef5",
   "metadata": {},
   "outputs": [],
   "source": []
  },
  {
   "cell_type": "markdown",
   "id": "1e757fc1",
   "metadata": {},
   "source": [
    "## ④ 整数と実数\n",
    "int型とfloat型も同じ式で計算できます。"
   ]
  },
  {
   "cell_type": "code",
   "execution_count": 13,
   "id": "2e19ea40",
   "metadata": {},
   "outputs": [
    {
     "name": "stdout",
     "output_type": "stream",
     "text": [
      "7.5\n"
     ]
    }
   ],
   "source": [
    "a = 2.5 * 3\n",
    "print(a)"
   ]
  },
  {
   "cell_type": "code",
   "execution_count": null,
   "id": "65c99f9d",
   "metadata": {},
   "outputs": [],
   "source": []
  },
  {
   "cell_type": "markdown",
   "id": "c0643c98",
   "metadata": {},
   "source": [
    "## ⑤型変換\n",
    "float()やint()で型を変えられます。"
   ]
  },
  {
   "cell_type": "code",
   "execution_count": 14,
   "id": "3157676a",
   "metadata": {},
   "outputs": [
    {
     "name": "stdout",
     "output_type": "stream",
     "text": [
      "1000.0\n",
      "----------\n",
      "1000\n"
     ]
    }
   ],
   "source": [
    "# int型\n",
    "a = 1000\n",
    "# float型に変換\n",
    "print(float(a))\n",
    "\n",
    "print(\"----------\")\n",
    "# str型に変換\n",
    "print(str(a))"
   ]
  },
  {
   "cell_type": "code",
   "execution_count": null,
   "id": "89ba2314",
   "metadata": {},
   "outputs": [],
   "source": []
  },
  {
   "cell_type": "markdown",
   "id": "55b5c4e0",
   "metadata": {},
   "source": [
    "## ⑥配列、ディクショナリ\n",
    "複数の値を扱う変数"
   ]
  },
  {
   "cell_type": "code",
   "execution_count": 15,
   "id": "b746dfab",
   "metadata": {},
   "outputs": [
    {
     "name": "stdout",
     "output_type": "stream",
     "text": [
      "1\n",
      "Bob\n"
     ]
    }
   ],
   "source": [
    "# リスト\n",
    "a = [1,2,3,4,5]\n",
    "# []内にインデックスを入れるとその値を返してくれます。※0が先頭です。\n",
    "print(a[0])\n",
    "\n",
    "# ディクショナリ {key: val}\n",
    "b = {\"name\": \"Bob\", \"age\": 30}\n",
    "# []内でkeyを指定するとvalueを返してくれます。\n",
    "print(b[\"name\"])"
   ]
  },
  {
   "cell_type": "code",
   "execution_count": 16,
   "id": "8c09fa86",
   "metadata": {},
   "outputs": [
    {
     "name": "stdout",
     "output_type": "stream",
     "text": [
      "[1, 2, 3, 4, 5, 6]\n",
      "----------\n",
      "[2, 3, 4, 5, 6]\n",
      "----------\n",
      "[2, 3, 100, 4, 5, 6]\n",
      "----------\n",
      "{'name': 'Bob', 'age': 30, 'isStudent': False}\n",
      "----------\n",
      "{'name': 'Bob', 'age': 30}\n",
      "----------\n",
      "dict_keys(['name', 'age'])\n",
      "----------\n",
      "dict_values(['Bob', 30])\n"
     ]
    }
   ],
   "source": [
    "# リストに値を追加する\n",
    "# .append(value)\n",
    "a = [1,2,3,4,5]\n",
    "a.append(6)\n",
    "print(a)\n",
    "\n",
    "print(\"----------\")\n",
    "# リストから値を削除する(indexを指定)\n",
    "# .pop(index)\n",
    "a.pop(0)\n",
    "print(a)\n",
    "\n",
    "print(\"----------\")\n",
    "# リストに位置を指定して値を挿入する\n",
    "# .insert(index, value)\n",
    "a.insert(2,100)\n",
    "print(a)\n",
    "\n",
    "print(\"----------\")\n",
    "b = {\"name\": \"Bob\", \"age\": 30}\n",
    "# ディクショナリ新しいキーを追加する\n",
    "b[\"isStudent\"] = False\n",
    "print(b)\n",
    "\n",
    "print(\"----------\")\n",
    "# ディクショナリからキーを削除する\n",
    "b.pop(\"isStudent\")\n",
    "print(b)\n",
    "\n",
    "print(\"----------\")\n",
    "# ディクショナリのキーを取得する\n",
    "print(b.keys())\n",
    "\n",
    "print(\"----------\")\n",
    "# ディクショナリの値を取得する\n",
    "print(b.values())"
   ]
  },
  {
   "cell_type": "code",
   "execution_count": null,
   "id": "92274a11",
   "metadata": {},
   "outputs": [],
   "source": []
  },
  {
   "cell_type": "markdown",
   "id": "5f3cee87",
   "metadata": {},
   "source": [
    "## ⑦if文\n",
    "条件分岐を作るときはif文を使います。"
   ]
  },
  {
   "cell_type": "code",
   "execution_count": 17,
   "id": "988f8c18",
   "metadata": {},
   "outputs": [
    {
     "name": "stdout",
     "output_type": "stream",
     "text": [
      "0より大きく500以下\n"
     ]
    }
   ],
   "source": [
    "a = 100\n",
    "# if 条件:\n",
    "if a>500:\n",
    "    # インデント\n",
    "    print(\"500より大きい\")\n",
    "# elif = else if\n",
    "elif a<=0:\n",
    "    print(\"ゼロ以下\")\n",
    "elif a == 200:\n",
    "    print(\"200\")\n",
    "else:\n",
    "    print(\"0より大きく500以下\")"
   ]
  },
  {
   "cell_type": "code",
   "execution_count": null,
   "id": "07c4fd87",
   "metadata": {},
   "outputs": [],
   "source": []
  },
  {
   "cell_type": "markdown",
   "id": "3c4d1381",
   "metadata": {},
   "source": [
    "## ⑧Bool型の演算\n",
    "True/Falseで表される式の計算"
   ]
  },
  {
   "cell_type": "code",
   "execution_count": 24,
   "id": "fd786790",
   "metadata": {},
   "outputs": [
    {
     "name": "stdout",
     "output_type": "stream",
     "text": [
      "True\n",
      "----------\n",
      "False\n",
      "----------\n",
      "True\n",
      "----------\n",
      "False\n"
     ]
    }
   ],
   "source": [
    "# 大小の比較\n",
    "a = 1\n",
    "b = 2\n",
    "print(a < b)\n",
    "\n",
    "print(\"----------\")\n",
    "# 同じかどうか？\n",
    "print(a == b)\n",
    "\n",
    "print(\"----------\")\n",
    "# 複数の条件(and/or)\n",
    "c = -1\n",
    "print(a<b or b<c)\n",
    "\n",
    "print(\"----------\")\n",
    "print(a<b and b<c)"
   ]
  },
  {
   "cell_type": "markdown",
   "id": "073c9ae9",
   "metadata": {},
   "source": [
    "## ⑧for文\n",
    "繰り返しの処理を書くときはfor文やwhile文を使います。"
   ]
  },
  {
   "cell_type": "code",
   "execution_count": 18,
   "id": "1456a9c1",
   "metadata": {},
   "outputs": [
    {
     "name": "stdout",
     "output_type": "stream",
     "text": [
      "0\n",
      "1\n",
      "2\n",
      "3\n",
      "4\n",
      "5\n",
      "6\n",
      "7\n",
      "8\n",
      "9\n",
      "----------\n",
      "1\n",
      "23\n",
      "45\n",
      "678\n",
      "----------\n",
      "0番目は1\n",
      "1番目は23\n",
      "2番目は45\n",
      "3番目は678\n",
      "----------\n",
      "0番目は1\n",
      "1番目は23\n",
      "2番目は45\n",
      "3番目は678\n"
     ]
    }
   ],
   "source": [
    "# for 任意の変数 in range(繰り返し回数)\n",
    "for i in range(10):\n",
    "    print(i)\n",
    "\n",
    "print(\"----------\")\n",
    "# リストの数だけfor文を回す\n",
    "a = [1,23,45,678]\n",
    "for i in a:\n",
    "    print(i)\n",
    "\n",
    "print(\"----------\")\n",
    "# リストの数だけfor文を回しながらインデックスも取得する①\n",
    "a = [1,23,45,678]\n",
    "for i in range(len(a)):\n",
    "     print(str(i)+\"番目は\"+str(a[i]))\n",
    "        \n",
    "print(\"----------\")\n",
    "# リストの数だけfor文を回しながらインデックスも取得する②（おすすめ）\n",
    "for i,val in enumerate(a):\n",
    "    print(str(i)+\"番目は\"+str(val))"
   ]
  },
  {
   "cell_type": "code",
   "execution_count": 19,
   "id": "58409b6f",
   "metadata": {},
   "outputs": [
    {
     "name": "stdout",
     "output_type": "stream",
     "text": [
      "[0, 1, 2, 3, 4, 5, 6, 7, 8, 9]\n",
      "----------\n",
      "[1, 3, 5, 7, 9, 11, 13, 15, 17, 19]\n"
     ]
    }
   ],
   "source": [
    "# 内包表記することで１行でfor文を書くことができます\n",
    "a = [i for i in range(10)]\n",
    "print(a)\n",
    "\n",
    "print(\"----------\")\n",
    "b = [i*2+1 for i in range(10)]\n",
    "print(b)"
   ]
  },
  {
   "cell_type": "code",
   "execution_count": null,
   "id": "58f9ba2c",
   "metadata": {},
   "outputs": [],
   "source": []
  }
 ],
 "metadata": {
  "kernelspec": {
   "display_name": "Python 3 (ipykernel)",
   "language": "python",
   "name": "python3"
  },
  "language_info": {
   "codemirror_mode": {
    "name": "ipython",
    "version": 3
   },
   "file_extension": ".py",
   "mimetype": "text/x-python",
   "name": "python",
   "nbconvert_exporter": "python",
   "pygments_lexer": "ipython3",
   "version": "3.9.7"
  }
 },
 "nbformat": 4,
 "nbformat_minor": 5
}
