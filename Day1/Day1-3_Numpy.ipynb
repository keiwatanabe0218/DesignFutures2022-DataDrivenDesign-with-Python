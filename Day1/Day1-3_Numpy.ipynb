{
 "cells": [
  {
   "cell_type": "markdown",
   "id": "2fa5d509",
   "metadata": {},
   "source": [
    "# Day1-3 Numpy"
   ]
  },
  {
   "cell_type": "markdown",
   "id": "dcc3d9f4",
   "metadata": {},
   "source": [
    "## ①Numpyとは？\n",
    "https://numpy.org/\n",
    "- 数値計算を高速に行うことができるPythonのライブラリ\n",
    "- 特に多次元配列が扱いやすくなるので、データ分析や機械学習の分野で多く使われています  \n",
    "\n",
    "【参考】\n",
    "https://tutorials.chainer.org/ja/08_Introduction_to_NumPy.html"
   ]
  },
  {
   "cell_type": "markdown",
   "id": "8551e4f9",
   "metadata": {},
   "source": [
    "## ②インストール\n",
    "- この講義では1.22.4を使います。"
   ]
  },
  {
   "cell_type": "code",
   "execution_count": 11,
   "id": "0250328e",
   "metadata": {},
   "outputs": [
    {
     "name": "stdout",
     "output_type": "stream",
     "text": [
      "Requirement already satisfied: numpy==1.22.4 in c:\\users\\t1000\\anaconda3\\envs\\py39\\lib\\site-packages (1.22.4)\n"
     ]
    }
   ],
   "source": [
    "!pip install numpy==1.22.4"
   ]
  },
  {
   "cell_type": "markdown",
   "id": "bcb2d406",
   "metadata": {},
   "source": [
    "## ③多次元配列\n",
    "- arrayを使って多次元配列を定義します\n",
    "- .shapeで形、.ndimで次元数、.sizeで要素数を取得できます"
   ]
  },
  {
   "cell_type": "code",
   "execution_count": 12,
   "id": "2435ba68",
   "metadata": {},
   "outputs": [
    {
     "data": {
      "text/plain": [
       "array([0, 1, 2, 3, 4])"
      ]
     },
     "execution_count": 12,
     "metadata": {},
     "output_type": "execute_result"
    }
   ],
   "source": [
    "import numpy as np\n",
    "\n",
    "a = np.array([0,1,2,3,4])\n",
    "a"
   ]
  },
  {
   "cell_type": "code",
   "execution_count": 21,
   "id": "7d62175b",
   "metadata": {},
   "outputs": [
    {
     "name": "stdout",
     "output_type": "stream",
     "text": [
      "形:(5,)\n",
      "次元数:1\n",
      "要素数:5\n"
     ]
    }
   ],
   "source": [
    "print(\"形:{}\".format(a.shape))\n",
    "print(\"次元数:{}\".format(a.ndim))\n",
    "print(\"要素数:{}\".format(a.size))"
   ]
  },
  {
   "cell_type": "code",
   "execution_count": 27,
   "id": "4ae9fccb",
   "metadata": {},
   "outputs": [
    {
     "data": {
      "text/plain": [
       "array([[1, 2, 3],\n",
       "       [4, 5, 6]])"
      ]
     },
     "execution_count": 27,
     "metadata": {},
     "output_type": "execute_result"
    }
   ],
   "source": [
    "b = np.array([[1,2,3],[4,5,6]])\n",
    "b"
   ]
  },
  {
   "cell_type": "code",
   "execution_count": 28,
   "id": "0a51ee5f",
   "metadata": {},
   "outputs": [
    {
     "name": "stdout",
     "output_type": "stream",
     "text": [
      "形:(2, 3)\n",
      "次元数:2\n",
      "要素数:6\n"
     ]
    }
   ],
   "source": [
    "print(\"形:{}\".format(b.shape))\n",
    "print(\"次元数:{}\".format(b.ndim))\n",
    "print(\"要素数:{}\".format(b.size))"
   ]
  },
  {
   "cell_type": "code",
   "execution_count": null,
   "id": "19426061",
   "metadata": {},
   "outputs": [],
   "source": []
  },
  {
   "cell_type": "markdown",
   "id": "e9aab380",
   "metadata": {},
   "source": [
    "## ④arrayのソート、結合\n",
    "- np.sortでソート\n",
    "- np.concatenateでarrayの結合(axisで方向の指定)"
   ]
  },
  {
   "cell_type": "code",
   "execution_count": 32,
   "id": "c7ac5388",
   "metadata": {},
   "outputs": [
    {
     "data": {
      "text/plain": [
       "array([1, 2, 3])"
      ]
     },
     "execution_count": 32,
     "metadata": {},
     "output_type": "execute_result"
    }
   ],
   "source": [
    "a = np.array([3,1,2])\n",
    "b = np.array([4,5,6])\n",
    "\n",
    "a = np.sort(a)\n",
    "a"
   ]
  },
  {
   "cell_type": "code",
   "execution_count": 35,
   "id": "572d89f6",
   "metadata": {},
   "outputs": [
    {
     "data": {
      "text/plain": [
       "array([1, 2, 3, 4, 5, 6])"
      ]
     },
     "execution_count": 35,
     "metadata": {},
     "output_type": "execute_result"
    }
   ],
   "source": [
    "c = np.concatenate((a,b))\n",
    "c"
   ]
  },
  {
   "cell_type": "code",
   "execution_count": 36,
   "id": "e02d621b",
   "metadata": {},
   "outputs": [
    {
     "data": {
      "text/plain": [
       "array([[1, 2],\n",
       "       [3, 4],\n",
       "       [5, 6],\n",
       "       [7, 8]])"
      ]
     },
     "execution_count": 36,
     "metadata": {},
     "output_type": "execute_result"
    }
   ],
   "source": [
    "a = np.array([[1,2],[3,4]])\n",
    "b = np.array([[5,6],[7,8]])\n",
    "\n",
    "c = np.concatenate((a,b),axis=0)\n",
    "c"
   ]
  },
  {
   "cell_type": "code",
   "execution_count": 38,
   "id": "0cfb7139",
   "metadata": {},
   "outputs": [
    {
     "data": {
      "text/plain": [
       "array([[1, 2, 5, 6],\n",
       "       [3, 4, 7, 8]])"
      ]
     },
     "execution_count": 38,
     "metadata": {},
     "output_type": "execute_result"
    }
   ],
   "source": [
    "d = np.concatenate((a,b),axis=1)\n",
    "d"
   ]
  },
  {
   "cell_type": "code",
   "execution_count": null,
   "id": "5f32f5ad",
   "metadata": {},
   "outputs": [],
   "source": []
  },
  {
   "cell_type": "markdown",
   "id": "9feadfa4",
   "metadata": {},
   "source": [
    "## ⑤array同士の計算\n",
    "- array同士で四則演算ができます"
   ]
  },
  {
   "cell_type": "code",
   "execution_count": 39,
   "id": "5a442ac9",
   "metadata": {},
   "outputs": [
    {
     "data": {
      "text/plain": [
       "array([7, 6, 8])"
      ]
     },
     "execution_count": 39,
     "metadata": {},
     "output_type": "execute_result"
    }
   ],
   "source": [
    "a = np.array([3,1,2])\n",
    "b = np.array([4,5,6])\n",
    "\n",
    "c = a+b\n",
    "c"
   ]
  },
  {
   "cell_type": "code",
   "execution_count": 40,
   "id": "60b7b464",
   "metadata": {},
   "outputs": [
    {
     "data": {
      "text/plain": [
       "array([9, 3, 6])"
      ]
     },
     "execution_count": 40,
     "metadata": {},
     "output_type": "execute_result"
    }
   ],
   "source": [
    "d = a*3\n",
    "d"
   ]
  },
  {
   "cell_type": "code",
   "execution_count": null,
   "id": "52c967a9",
   "metadata": {},
   "outputs": [],
   "source": []
  },
  {
   "attachments": {
    "image.png": {
     "image/png": "[encoded data removed]"
    }
   },
   "cell_type": "markdown",
   "id": "991a6c04",
   "metadata": {},
   "source": [
    "## ⑥行列計算\n",
    "行列積の計算はnp.dot()もしくはA.dot(B)を使います\n",
    "![image.png](attachment:image.png)\n",
    "https://atarimae.biz/archives/23930"
   ]
  },
  {
   "cell_type": "code",
   "execution_count": 43,
   "id": "05178446",
   "metadata": {},
   "outputs": [
    {
     "data": {
      "text/plain": [
       "array([[19, 22],\n",
       "       [43, 50]])"
      ]
     },
     "execution_count": 43,
     "metadata": {},
     "output_type": "execute_result"
    }
   ],
   "source": [
    "a = np.array([\n",
    "    [1, 2],\n",
    "    [3, 4],\n",
    "])\n",
    "\n",
    "b = np.array([\n",
    "    [5, 6],\n",
    "    [7, 8],\n",
    "])\n",
    "\n",
    "c = np.dot(a,b)\n",
    "c"
   ]
  },
  {
   "cell_type": "code",
   "execution_count": 44,
   "id": "9d6b381a",
   "metadata": {},
   "outputs": [
    {
     "data": {
      "text/plain": [
       "array([[ 4,  5,  6,  7],\n",
       "       [12, 17, 22, 27],\n",
       "       [20, 29, 38, 47]])"
      ]
     },
     "execution_count": 44,
     "metadata": {},
     "output_type": "execute_result"
    }
   ],
   "source": [
    "a = np.array([\n",
    "    [0, 1],\n",
    "    [2, 3],\n",
    "    [4, 5]\n",
    "])\n",
    "\n",
    "b = np.array([\n",
    "    [0, 1, 2, 3],\n",
    "    [4, 5, 6, 7],\n",
    "])\n",
    "\n",
    "c = a.dot(b)\n",
    "c"
   ]
  },
  {
   "cell_type": "code",
   "execution_count": null,
   "id": "1af06a44",
   "metadata": {},
   "outputs": [],
   "source": []
  },
  {
   "cell_type": "markdown",
   "id": "b1b41ed6",
   "metadata": {},
   "source": [
    "## ⑦統計量を求める\n",
    "- 合計: .sum()\n",
    "- 平均: .mean()\n",
    "- 分散: .var()\n",
    "- 標準偏差: .std()\n",
    "- 最大値: .max()\n",
    "- 最小値: .min()"
   ]
  },
  {
   "cell_type": "code",
   "execution_count": 45,
   "id": "648e5b71",
   "metadata": {},
   "outputs": [
    {
     "data": {
      "text/plain": [
       "array([[7, 5, 5, 3, 0, 6, 4, 7, 0, 2],\n",
       "       [4, 6, 7, 6, 1, 5, 1, 5, 8, 6],\n",
       "       [9, 9, 0, 8, 2, 1, 1, 2, 2, 8],\n",
       "       [6, 8, 8, 4, 9, 2, 7, 0, 0, 4],\n",
       "       [4, 9, 5, 2, 6, 4, 7, 8, 8, 5],\n",
       "       [8, 4, 7, 1, 4, 6, 0, 6, 0, 1],\n",
       "       [0, 3, 8, 5, 9, 2, 0, 7, 4, 0],\n",
       "       [6, 2, 1, 3, 1, 6, 4, 8, 8, 9]])"
      ]
     },
     "execution_count": 45,
     "metadata": {},
     "output_type": "execute_result"
    }
   ],
   "source": [
    "x = np.random.randint(0, 10, (8, 10))\n",
    "x"
   ]
  },
  {
   "cell_type": "code",
   "execution_count": 50,
   "id": "0e5595ce",
   "metadata": {},
   "outputs": [
    {
     "name": "stdout",
     "output_type": "stream",
     "text": [
      "すべての合計: 359\n",
      "行の合計: [44 46 41 32 32 32 24 43 30 35]\n",
      "列の合計: [39 49 42 48 58 37 38 48]\n"
     ]
    }
   ],
   "source": [
    "# すべての合計\n",
    "print(\"すべての合計: {}\".format(x.sum()))\n",
    "# 列の合計\n",
    "print(\"行の合計: {}\".format(x.sum(axis=0)))\n",
    "# 行の合計\n",
    "print(\"列の合計: {}\".format(x.sum(axis=1)))"
   ]
  },
  {
   "cell_type": "code",
   "execution_count": 51,
   "id": "8e269c6e",
   "metadata": {},
   "outputs": [
    {
     "name": "stdout",
     "output_type": "stream",
     "text": [
      "すべての平均: 4.4875\n",
      "行の平均: [5.5   5.75  5.125 4.    4.    4.    3.    5.375 3.75  4.375]\n",
      "列の平均: [3.9 4.9 4.2 4.8 5.8 3.7 3.8 4.8]\n"
     ]
    }
   ],
   "source": [
    "# すべての平均\n",
    "print(\"すべての平均: {}\".format(x.mean()))\n",
    "# 列の平均\n",
    "print(\"行の平均: {}\".format(x.mean(axis=0)))\n",
    "# 行の平均\n",
    "print(\"列の平均: {}\".format(x.mean(axis=1)))"
   ]
  },
  {
   "cell_type": "code",
   "execution_count": 53,
   "id": "6604e36f",
   "metadata": {},
   "outputs": [
    {
     "name": "stdout",
     "output_type": "stream",
     "text": [
      "分散: 8.549843749999999\n",
      "標準偏差: 2.9240115851343678\n",
      "最大値: 9\n",
      "最小値: 0\n"
     ]
    }
   ],
   "source": [
    "# 分散\n",
    "print(\"分散: {}\".format(x.var()))\n",
    "# 標準偏差\n",
    "print(\"標準偏差: {}\".format(x.std()))\n",
    "# 最大値\n",
    "print(\"最大値: {}\".format(x.max()))\n",
    "# 最小値\n",
    "print(\"最小値: {}\".format(x.min()))"
   ]
  },
  {
   "cell_type": "code",
   "execution_count": null,
   "id": "9499f26e",
   "metadata": {},
   "outputs": [],
   "source": []
  },
  {
   "cell_type": "markdown",
   "id": "e92b3aa3",
   "metadata": {},
   "source": [
    "## ⑧arrayから値を取り出す"
   ]
  },
  {
   "cell_type": "code",
   "execution_count": 57,
   "id": "3b10ef4d",
   "metadata": {},
   "outputs": [
    {
     "data": {
      "text/plain": [
       "array([1, 2, 3, 4, 5])"
      ]
     },
     "execution_count": 57,
     "metadata": {},
     "output_type": "execute_result"
    }
   ],
   "source": [
    "a = np.array([1,2,3,4,5])\n",
    "a"
   ]
  },
  {
   "cell_type": "code",
   "execution_count": 58,
   "id": "8706c1fe",
   "metadata": {},
   "outputs": [
    {
     "data": {
      "text/plain": [
       "array([2, 3, 4, 5])"
      ]
     },
     "execution_count": 58,
     "metadata": {},
     "output_type": "execute_result"
    }
   ],
   "source": [
    "# 1番目以降\n",
    "a[1:]"
   ]
  },
  {
   "cell_type": "code",
   "execution_count": 60,
   "id": "2da8bfd8",
   "metadata": {},
   "outputs": [
    {
     "data": {
      "text/plain": [
       "array([3, 4])"
      ]
     },
     "execution_count": 60,
     "metadata": {},
     "output_type": "execute_result"
    }
   ],
   "source": [
    "# 2番目から4番目\n",
    "a[2:4]"
   ]
  },
  {
   "cell_type": "code",
   "execution_count": 64,
   "id": "322c41af",
   "metadata": {},
   "outputs": [
    {
     "data": {
      "text/plain": [
       "array([[ 1,  2,  3,  4],\n",
       "       [ 5,  6,  7,  8],\n",
       "       [ 9, 10, 11, 12]])"
      ]
     },
     "execution_count": 64,
     "metadata": {},
     "output_type": "execute_result"
    }
   ],
   "source": [
    "a = np.array([[1, 2, 3, 4], [5, 6, 7, 8], [9, 10, 11, 12]])\n",
    "a"
   ]
  },
  {
   "cell_type": "code",
   "execution_count": 65,
   "id": "ce5c3aff",
   "metadata": {},
   "outputs": [
    {
     "data": {
      "text/plain": [
       "array([1, 2, 3, 4])"
      ]
     },
     "execution_count": 65,
     "metadata": {},
     "output_type": "execute_result"
    }
   ],
   "source": [
    "#0行目のすべての列\n",
    "a[0,:]"
   ]
  },
  {
   "cell_type": "code",
   "execution_count": 66,
   "id": "a36b952a",
   "metadata": {},
   "outputs": [
    {
     "data": {
      "text/plain": [
       "array([1, 5, 9])"
      ]
     },
     "execution_count": 66,
     "metadata": {},
     "output_type": "execute_result"
    }
   ],
   "source": [
    "# すべての行の0列目\n",
    "a[:,0]"
   ]
  },
  {
   "cell_type": "code",
   "execution_count": 69,
   "id": "c19b5669",
   "metadata": {},
   "outputs": [
    {
     "data": {
      "text/plain": [
       "array([[ 7,  8],\n",
       "       [11, 12]])"
      ]
     },
     "execution_count": 69,
     "metadata": {},
     "output_type": "execute_result"
    }
   ],
   "source": [
    "# 1行目以降の2～4列目\n",
    "a[1:,2:4]"
   ]
  },
  {
   "cell_type": "code",
   "execution_count": null,
   "id": "7b2f0b10",
   "metadata": {},
   "outputs": [],
   "source": []
  }
 ],
 "metadata": {
  "kernelspec": {
   "display_name": "Python 3 (ipykernel)",
   "language": "python",
   "name": "python3"
  },
  "language_info": {
   "codemirror_mode": {
    "name": "ipython",
    "version": 3
   },
   "file_extension": ".py",
   "mimetype": "text/x-python",
   "name": "python",
   "nbconvert_exporter": "python",
   "pygments_lexer": "ipython3",
   "version": "3.9.12"
  }
 },
 "nbformat": 4,
 "nbformat_minor": 5
}
