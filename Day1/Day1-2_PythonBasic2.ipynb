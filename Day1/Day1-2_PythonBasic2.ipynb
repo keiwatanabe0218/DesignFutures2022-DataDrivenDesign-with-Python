{
 "cells": [
  {
   "cell_type": "markdown",
   "id": "054ca973",
   "metadata": {},
   "source": [
    "# Day1-1 Pythonの基礎②\n",
    "\n",
    "## ①関数を作る\n",
    "入力値に対して計算して出力値を返す関数を作ります。  \n",
    "※関数名や変数名はPythonのデフォルトにあるものと被らないように！  \n",
    "例）int, list, dict"
   ]
  },
  {
   "cell_type": "code",
   "execution_count": 1,
   "id": "ad3f3f1a",
   "metadata": {},
   "outputs": [
    {
     "name": "stdout",
     "output_type": "stream",
     "text": [
      "5\n"
     ]
    }
   ],
   "source": [
    "# def 関数名(入力A, 入力B, ...):\n",
    "def add(a, b):\n",
    "    # returnの後に書いた値が返されます\n",
    "    return a+b\n",
    "\n",
    "# 関数を使う\n",
    "c = add(1,4)\n",
    "print(c)"
   ]
  },
  {
   "cell_type": "code",
   "execution_count": 23,
   "id": "9163a9b8",
   "metadata": {},
   "outputs": [
    {
     "name": "stdout",
     "output_type": "stream",
     "text": [
      "違う値です\n"
     ]
    }
   ],
   "source": [
    "# 返り値がなくても作れます\n",
    "def isSame(a, b):\n",
    "    if a == b:\n",
    "        print(\"同じ値です\")\n",
    "    else:\n",
    "        print(\"違う値です\")\n",
    "\n",
    "isSame(10, 12)"
   ]
  },
  {
   "cell_type": "code",
   "execution_count": null,
   "id": "30f6ded1",
   "metadata": {},
   "outputs": [],
   "source": []
  },
  {
   "cell_type": "markdown",
   "id": "80ea3ac5",
   "metadata": {},
   "source": [
    "## ②クラスを作る\n",
    "さまざまな値がまとまったオブジェクトを\"クラス\"の\"インスタンス\"と言います"
   ]
  },
  {
   "cell_type": "code",
   "execution_count": 13,
   "id": "759f1b86",
   "metadata": {},
   "outputs": [
    {
     "name": "stdout",
     "output_type": "stream",
     "text": [
      "Bob\n",
      "18\n"
     ]
    }
   ],
   "source": [
    "# クラスの定義\n",
    "# class クラス名:\n",
    "class Person:\n",
    "    # 初期値の設定やインスタンスが作られた時の処理はここに書きます\n",
    "    # クラス内の値はself.~~で定義します\n",
    "    def __init__(self, name, age, isStudent):\n",
    "        self.name = name\n",
    "        self.age = age\n",
    "        self.isStudent = isStudent\n",
    "\n",
    "# インスタンスを作成\n",
    "personA = Person(\"Bob\", \"30\", False)\n",
    "personB = Person(\"Micheal\", \"18\", True)\n",
    "\n",
    "# クラス内の値を取り出す\n",
    "print(personA.name)\n",
    "print(personB.age)"
   ]
  },
  {
   "cell_type": "code",
   "execution_count": 24,
   "id": "6e13427a",
   "metadata": {},
   "outputs": [
    {
     "name": "stdout",
     "output_type": "stream",
     "text": [
      "参加者数:0人\n",
      "----------\n",
      "3人の参加者を追加\n",
      "2人の参加者を追加\n",
      "----------\n",
      "参加者数:5人\n",
      "['Aさん', 'Bさん', 'Cさん', 'Dさん', 'Eさん']\n"
     ]
    }
   ],
   "source": [
    "# クラス内に関数を定義する\n",
    "class Lecture:\n",
    "    def __init__(self, title):\n",
    "        self.title = title\n",
    "        self.participants = []\n",
    "        \n",
    "    # 参加者を追加する関数\n",
    "    def add_participants(self, new_participants):\n",
    "        self.participants.extend(new_participants)\n",
    "        print(\"{}人の参加者を追加\".format(len(new_participants)))\n",
    "        \n",
    "    # 参加者数を返す\n",
    "    def count_participants(self):\n",
    "        return len(self.participants)\n",
    "\n",
    "# インスタンスを作成\n",
    "lectureA = Lecture(\"Python講習\")\n",
    "\n",
    "# 参加者数を確認\n",
    "participants_count = lectureA.count_participants()\n",
    "print(\"参加者数:{}人\".format(participants_count))\n",
    "\n",
    "print(\"----------\")\n",
    "# 参加者を追加\n",
    "lectureA.add_participants([\"Aさん\", \"Bさん\", \"Cさん\"])\n",
    "# さらに参加者を追加\n",
    "lectureA.add_participants([\"Dさん\", \"Eさん\"])\n",
    "\n",
    "print(\"----------\")\n",
    "# 再度参加者を確認\n",
    "participants_count = lectureA.count_participants()\n",
    "print(\"参加者数:{}人\".format(participants_count))\n",
    "print(lectureA.participants)"
   ]
  },
  {
   "cell_type": "code",
   "execution_count": null,
   "id": "5e253e25",
   "metadata": {},
   "outputs": [],
   "source": []
  },
  {
   "cell_type": "markdown",
   "id": "73391d2a",
   "metadata": {},
   "source": [
    "## ③Global変数とLocal変数\n",
    "スコープによって扱える変数が変わります"
   ]
  },
  {
   "cell_type": "code",
   "execution_count": 5,
   "id": "9ca0c5c3",
   "metadata": {},
   "outputs": [
    {
     "name": "stdout",
     "output_type": "stream",
     "text": [
      "100\n"
     ]
    }
   ],
   "source": [
    "g = 100\n",
    "\n",
    "def add(d,e):\n",
    "    f = d+e\n",
    "    #変数gはGlocal関数なので関数内でも参照できます\n",
    "    print(g)\n",
    "\n",
    "add(1,2)"
   ]
  },
  {
   "cell_type": "code",
   "execution_count": 7,
   "id": "e8c80327",
   "metadata": {},
   "outputs": [
    {
     "ename": "NameError",
     "evalue": "name 'd' is not defined",
     "output_type": "error",
     "traceback": [
      "\u001b[1;31m---------------------------------------------------------------------------\u001b[0m",
      "\u001b[1;31mNameError\u001b[0m                                 Traceback (most recent call last)",
      "Input \u001b[1;32mIn [7]\u001b[0m, in \u001b[0;36m<cell line: 4>\u001b[1;34m()\u001b[0m\n\u001b[0;32m      1\u001b[0m \u001b[38;5;28;01mdef\u001b[39;00m \u001b[38;5;21mmultiply\u001b[39m(h,i):\n\u001b[0;32m      2\u001b[0m     \u001b[38;5;28mprint\u001b[39m(d)\n\u001b[1;32m----> 4\u001b[0m \u001b[43mmultiply\u001b[49m\u001b[43m(\u001b[49m\u001b[38;5;241;43m10\u001b[39;49m\u001b[43m,\u001b[49m\u001b[38;5;241;43m2\u001b[39;49m\u001b[43m)\u001b[49m\n",
      "Input \u001b[1;32mIn [7]\u001b[0m, in \u001b[0;36mmultiply\u001b[1;34m(h, i)\u001b[0m\n\u001b[0;32m      1\u001b[0m \u001b[38;5;28;01mdef\u001b[39;00m \u001b[38;5;21mmultiply\u001b[39m(h,i):\n\u001b[1;32m----> 2\u001b[0m     \u001b[38;5;28mprint\u001b[39m(\u001b[43md\u001b[49m)\n",
      "\u001b[1;31mNameError\u001b[0m: name 'd' is not defined"
     ]
    }
   ],
   "source": [
    "def multiply(h,i):\n",
    "    # addで使われている変数dはローカル変数なので関数add外では参照できません\n",
    "    print(d)\n",
    "\n",
    "multiply(10,2)"
   ]
  },
  {
   "cell_type": "code",
   "execution_count": null,
   "id": "2bfcf1c1",
   "metadata": {},
   "outputs": [],
   "source": []
  },
  {
   "cell_type": "markdown",
   "id": "ff70c7d0",
   "metadata": {},
   "source": [
    "## ④ユーザーインプット\n",
    "input関数を使うことで値をユーザーに入力させることができます"
   ]
  },
  {
   "cell_type": "code",
   "execution_count": 13,
   "id": "92ebeb4c",
   "metadata": {},
   "outputs": [
    {
     "name": "stdout",
     "output_type": "stream",
     "text": [
      "paramA: 5\n",
      "paramB: 6\n"
     ]
    },
    {
     "data": {
      "text/plain": [
       "11"
      ]
     },
     "execution_count": 13,
     "metadata": {},
     "output_type": "execute_result"
    }
   ],
   "source": [
    "a = input(\"paramA: \")\n",
    "b = input(\"paramB: \")\n",
    "int(a)+int(b)"
   ]
  },
  {
   "cell_type": "code",
   "execution_count": null,
   "id": "26a62b32",
   "metadata": {},
   "outputs": [],
   "source": []
  }
 ],
 "metadata": {
  "kernelspec": {
   "display_name": "Python 3 (ipykernel)",
   "language": "python",
   "name": "python3"
  },
  "language_info": {
   "codemirror_mode": {
    "name": "ipython",
    "version": 3
   },
   "file_extension": ".py",
   "mimetype": "text/x-python",
   "name": "python",
   "nbconvert_exporter": "python",
   "pygments_lexer": "ipython3",
   "version": "3.9.12"
  }
 },
 "nbformat": 4,
 "nbformat_minor": 5
}
