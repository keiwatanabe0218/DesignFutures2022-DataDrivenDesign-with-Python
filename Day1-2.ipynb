{
 "cells": [
  {
   "cell_type": "markdown",
   "id": "054ca973",
   "metadata": {},
   "source": [
    "# Day1-1 Pythonの基礎②\n",
    "\n",
    "## ①関数を作る\n",
    "入力値に対して計算して出力値を返す関数を作ります。  \n",
    "※関数名や変数名はPythonのデフォルトにあるものと被らないように！  \n",
    "例）int, list, dict"
   ]
  },
  {
   "cell_type": "code",
   "execution_count": 1,
   "id": "ad3f3f1a",
   "metadata": {},
   "outputs": [
    {
     "name": "stdout",
     "output_type": "stream",
     "text": [
      "5\n"
     ]
    }
   ],
   "source": [
    "# def 関数名(入力A, 入力B, ...):\n",
    "def add(a, b):\n",
    "    # returnの後に書いた値が返されます\n",
    "    return a+b\n",
    "\n",
    "# 関数を使う\n",
    "c = add(1,4)\n",
    "print(c)"
   ]
  },
  {
   "cell_type": "code",
   "execution_count": 23,
   "id": "9163a9b8",
   "metadata": {},
   "outputs": [
    {
     "name": "stdout",
     "output_type": "stream",
     "text": [
      "違う値です\n"
     ]
    }
   ],
   "source": [
    "# 返り値がなくても作れます\n",
    "def isSame(a, b):\n",
    "    if a == b:\n",
    "        print(\"同じ値です\")\n",
    "    else:\n",
    "        print(\"違う値です\")\n",
    "\n",
    "isSame(10, 12)"
   ]
  },
  {
   "cell_type": "code",
   "execution_count": null,
   "id": "30f6ded1",
   "metadata": {},
   "outputs": [],
   "source": []
  },
  {
   "cell_type": "markdown",
   "id": "80ea3ac5",
   "metadata": {},
   "source": [
    "## ②クラスを作る\n",
    "さまざまな値がまとまったオブジェクトを\"クラス\"の\"インスタンス\"と言います"
   ]
  },
  {
   "cell_type": "code",
   "execution_count": 13,
   "id": "759f1b86",
   "metadata": {},
   "outputs": [
    {
     "name": "stdout",
     "output_type": "stream",
     "text": [
      "Bob\n",
      "18\n"
     ]
    }
   ],
   "source": [
    "# クラスの定義\n",
    "# class クラス名:\n",
    "class Person:\n",
    "    # 初期値の設定やインスタンスが作られた時の処理はここに書きます\n",
    "    # クラス内の値はself.~~で定義します\n",
    "    def __init__(self, name, age, isStudent):\n",
    "        self.name = name\n",
    "        self.age = age\n",
    "        self.isStudent = isStudent\n",
    "\n",
    "# インスタンスを作成\n",
    "personA = Person(\"Bob\", \"30\", False)\n",
    "personB = Person(\"Micheal\", \"18\", True)\n",
    "\n",
    "# クラス内の値を取り出す\n",
    "print(personA.name)\n",
    "print(personB.age)"
   ]
  },
  {
   "cell_type": "code",
   "execution_count": 24,
   "id": "6e13427a",
   "metadata": {},
   "outputs": [
    {
     "name": "stdout",
     "output_type": "stream",
     "text": [
      "参加者数:0人\n",
      "----------\n",
      "3人の参加者を追加\n",
      "2人の参加者を追加\n",
      "----------\n",
      "参加者数:5人\n",
      "['Aさん', 'Bさん', 'Cさん', 'Dさん', 'Eさん']\n"
     ]
    }
   ],
   "source": [
    "# クラス内に関数を定義する\n",
    "class Lecture:\n",
    "    def __init__(self, title):\n",
    "        self.title = title\n",
    "        self.participants = []\n",
    "        \n",
    "    # 参加者を追加する関数\n",
    "    def add_participants(self, new_participants):\n",
    "        self.participants.extend(new_participants)\n",
    "        print(\"{}人の参加者を追加\".format(len(new_participants)))\n",
    "        \n",
    "    # 参加者数を返す\n",
    "    def count_participants(self):\n",
    "        return len(self.participants)\n",
    "\n",
    "# インスタンスを作成\n",
    "lectureA = Lecture(\"Python講習\")\n",
    "\n",
    "# 参加者数を確認\n",
    "participants_count = lectureA.count_participants()\n",
    "print(\"参加者数:{}人\".format(participants_count))\n",
    "\n",
    "print(\"----------\")\n",
    "# 参加者を追加\n",
    "lectureA.add_participants([\"Aさん\", \"Bさん\", \"Cさん\"])\n",
    "# さらに参加者を追加\n",
    "lectureA.add_participants([\"Dさん\", \"Eさん\"])\n",
    "\n",
    "print(\"----------\")\n",
    "# 再度参加者を確認\n",
    "participants_count = lectureA.count_participants()\n",
    "print(\"参加者数:{}人\".format(participants_count))\n",
    "print(lectureA.participants)"
   ]
  },
  {
   "cell_type": "code",
   "execution_count": null,
   "id": "5e253e25",
   "metadata": {},
   "outputs": [],
   "source": []
  }
 ],
 "metadata": {
  "kernelspec": {
   "display_name": "Python 3 (ipykernel)",
   "language": "python",
   "name": "python3"
  },
  "language_info": {
   "codemirror_mode": {
    "name": "ipython",
    "version": 3
   },
   "file_extension": ".py",
   "mimetype": "text/x-python",
   "name": "python",
   "nbconvert_exporter": "python",
   "pygments_lexer": "ipython3",
   "version": "3.9.7"
  }
 },
 "nbformat": 4,
 "nbformat_minor": 5
}
